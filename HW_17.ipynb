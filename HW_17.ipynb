{
 "cells": [
  {
   "cell_type": "markdown",
   "metadata": {},
   "source": [
    "# Домашняя работа №2"
   ]
  },
  {
   "cell_type": "code",
   "execution_count": 13,
   "metadata": {},
   "outputs": [],
   "source": [
    "import numpy as np\n",
    "from scipy.optimize import approx_fprime\n",
    "from scipy.optimize import minimize, approx_fprime, fmin, brute\n",
    "import pylab\n",
    "import matplotlib.pyplot as plt"
   ]
  },
  {
   "cell_type": "markdown",
   "metadata": {},
   "source": [
    "Пояснение к решению домашней работы (в ноутбуке к дз говориться, что функция для вычисления градиента есть в лекционном ноутбуке. Использовать нужно функцию approx_fprime)\n",
    "Готовое решение необходимо разместить в этой вкладке."
   ]
  },
  {
   "cell_type": "markdown",
   "metadata": {},
   "source": [
    "### Задание 1"
   ]
  },
  {
   "cell_type": "markdown",
   "metadata": {},
   "source": [
    "Придумайте функции со следующими свойствами (в a) b) c) область определения X любая, какая вам удобна, главное - функция с нужными свойствами):"
   ]
  },
  {
   "cell_type": "markdown",
   "metadata": {},
   "source": [
    "a) бесконечное количество локальных экстремумов"
   ]
  },
  {
   "cell_type": "code",
   "execution_count": null,
   "metadata": {},
   "outputs": [],
   "source": [
    "def f_a(x):\n",
    "    return np.sin(x)"
   ]
  },
  {
   "cell_type": "code",
   "execution_count": null,
   "metadata": {},
   "outputs": [],
   "source": [
    "x0_a = 1\n",
    "xmin0_a = fmin(f_a,x0_a)\n",
    "x_a = np.linspace(-15,15,100)\n",
    "y_a = f_a(x_a)\n",
    "pylab.plot(x_a,y_a)\n",
    "pylab.plot(x0_a, f_a(x0_a), 'bd', xmin0_a, f_a(xmin0_a), 'bo')\n",
    "pylab.show()"
   ]
  },
  {
   "cell_type": "markdown",
   "metadata": {},
   "source": [
    "b) 2 локальных экстремума"
   ]
  },
  {
   "cell_type": "code",
   "execution_count": null,
   "metadata": {},
   "outputs": [],
   "source": [
    "# y = x^3+10*x*^2\n",
    "def f_b(x):\n",
    "    return (x ** 3 + 10 * x ** 2)"
   ]
  },
  {
   "cell_type": "code",
   "execution_count": null,
   "metadata": {},
   "outputs": [],
   "source": [
    "x0_b = 2\n",
    "xmin0_b = fmin(f_b,x0_b)\n",
    "x_b = np.linspace(-15,15,100)\n",
    "y_b = f_b(x_b)\n",
    "pylab.plot(x_b,y_b)\n",
    "pylab.plot(x0_b, f_b(x0_b), 'bd', xmin0_b, f_b(xmin0_b), 'bo')\n",
    "pylab.show()"
   ]
  },
  {
   "cell_type": "markdown",
   "metadata": {},
   "source": [
    "с) 3 локальных экстремума"
   ]
  },
  {
   "cell_type": "code",
   "execution_count": null,
   "metadata": {},
   "outputs": [],
   "source": [
    "def f_c(x):\n",
    "    return x ** 2 - 10 * abs(x)"
   ]
  },
  {
   "cell_type": "code",
   "execution_count": null,
   "metadata": {},
   "outputs": [],
   "source": [
    "x0_c = 2\n",
    "xmin0_c = fmin(f_c,x0_c)\n",
    "x_c = np.linspace(-15,15,100)\n",
    "y_c = f_c(x_c)\n",
    "pylab.plot(x_c,y_c)\n",
    "pylab.plot(x0_c, f_c(x0_c), 'bd', xmin0_c, f_c(xmin0_c), 'bo')\n",
    "pylab.show()"
   ]
  },
  {
   "cell_type": "markdown",
   "metadata": {},
   "source": [
    "d*) область определения функции - 1 точка"
   ]
  },
  {
   "cell_type": "code",
   "execution_count": null,
   "metadata": {},
   "outputs": [],
   "source": [
    "def f_d(x):\n",
    "    return x ** 2 + x"
   ]
  },
  {
   "cell_type": "code",
   "execution_count": null,
   "metadata": {},
   "outputs": [],
   "source": [
    "x0_d = 2\n",
    "xmin0_d = fmin(f_d,x0_d)\n",
    "x_d = np.linspace(-15,15,100)\n",
    "y_d = f_d(x_d)\n",
    "pylab.plot(x_d,y_d)\n",
    "pylab.plot(x0_d, f_d(x0_d), 'bd', xmin0_d, f_d(xmin0_d), 'bo')\n",
    "pylab.show()"
   ]
  },
  {
   "cell_type": "markdown",
   "metadata": {},
   "source": [
    "### Задание 2"
   ]
  },
  {
   "cell_type": "markdown",
   "metadata": {},
   "source": [
    "Посчитайте 1-ую и 2-ую производные функции (на бумажке):\n",
    "\n",
    "$f(x) = sin^2(2x+1)$\n"
   ]
  },
  {
   "cell_type": "markdown",
   "metadata": {},
   "source": [
    "### f(x)'\n",
    "\n",
    "f(x)' = (sin^2(2 * x + 1))’ = 2*(sin(2 * x + 1))' = 2*(cos(2 * x + 1))*(2 * x + 1)' = 2*(cos(2 * x + 1))*2*sin(2 * x + 1) \n",
    "\n",
    "f(x)' = 4 * sin(2 * x + 1) * cos(2 * x + 1)\n",
    "\n",
    "### f(x)''\n",
    "\n",
    "f(x)'' = 4 * 2 * (sin(2 * x + 1))' * cos(2 * x + 1) + 4 * 2 * sin(2 * x + 1) * (cos(2 * x + 1))' = \n",
    "\n",
    "4 * 2 * (cos(2 * x + 1)) * cos(2 * x + 1) + 4 * 2 * sin(2 * x + 1) * (-sin(2 * x + 1)) =\n",
    "\n",
    "8 * (cos(2 * x + 1)) ^ 2 - 8 * (sin(2 * x + 1)) ^ 2\n",
    "\n",
    "f(x)'' = 8 * (cos(2 * x + 1)^2 - sin(2 * x + 1)^2)"
   ]
  },
  {
   "cell_type": "markdown",
   "metadata": {},
   "source": [
    "### Задание 3: \n",
    "Посчитайте частные производные функции в точкe\n",
    "(на бумажке или в LaTeX и на numpy):"
   ]
  },
  {
   "cell_type": "markdown",
   "metadata": {},
   "source": [
    "$f(x,y)=2x^2y^3 + 1/x + y^2x + 7$ в точке $(1,2)$"
   ]
  },
  {
   "cell_type": "markdown",
   "metadata": {},
   "source": [
    "f'x = 2 * 2 * x * y ^ 3 - (1 / x ^ 2) + y ^ 2\n",
    "\n",
    "f'y = 6 * x ^ 2 * y ^ 2 + 2 * y * x\n",
    "\n",
    "f'x(1,2) = 2 * 2 * 1 * 2 ^ 3 - (1 / 1 ^ 2) + 2 ^ 2 = 32 - 1 + 4 = 35\n",
    "\n",
    "f'y(1,2) = 6 * 1 ^ 2 * 2 ^ 2 + 2 * 2 * 1 = 24 + 4 = 28\n",
    "\n",
    "grad_f(1,2) = (35, 28)"
   ]
  },
  {
   "cell_type": "code",
   "execution_count": null,
   "metadata": {},
   "outputs": [],
   "source": [
    "def test_func(x):\n",
    "    return (2 * (x[0]**2) * (x[1]**3) + (1 / x[0]) + (x[1]**2) * x[0] + 7)"
   ]
  },
  {
   "cell_type": "code",
   "execution_count": null,
   "metadata": {},
   "outputs": [],
   "source": [
    "res = minimize(test_func, [1,2], method='nelder-mead', options={'xtol': 1e-6, 'disp': True})"
   ]
  },
  {
   "cell_type": "markdown",
   "metadata": {},
   "source": [
    "### Задание 4:\n",
    "\n",
    "Градиентный спуск своими руками"
   ]
  },
  {
   "cell_type": "code",
   "execution_count": 2,
   "metadata": {},
   "outputs": [],
   "source": [
    "def f(x):\n",
    "    return (x[0]**2) + (x[1]**2) "
   ]
  },
  {
   "cell_type": "code",
   "execution_count": 30,
   "metadata": {},
   "outputs": [
    {
     "name": "stdout",
     "output_type": "stream",
     "text": [
      "50000\n"
     ]
    }
   ],
   "source": [
    "x = np.array([100, 200])\n",
    "lr = 0.1"
   ]
  },
  {
   "cell_type": "code",
   "execution_count": 36,
   "metadata": {},
   "outputs": [
    {
     "name": "stdout",
     "output_type": "stream",
     "text": [
      "Не разобрался что нужно сделать?\n"
     ]
    }
   ],
   "source": [
    "for i in range(100):\n",
    "    # Calculate gradient\n",
    "    # Your code here (функция для вычисления градиента есть в лекционном ноутбуке)\n",
    "    # grad = derivative(f, x, dx=lr, n=1)\n",
    "    grad = \n",
    "    \n",
    "    # Update x with gradient\n",
    "    # Your code here (смотри слайд презентации про градиентный спуск)\n",
    "    x = "
   ]
  },
  {
   "cell_type": "code",
   "execution_count": 32,
   "metadata": {},
   "outputs": [
    {
     "name": "stdout",
     "output_type": "stream",
     "text": [
      "Минимум достигается в:  [100 200]\n",
      "Значение функции в минимуме:  50000\n"
     ]
    }
   ],
   "source": [
    "print(\"Минимум достигается в: \", x)\n",
    "print(\"Значение функции в минимуме: \", f(x))"
   ]
  },
  {
   "cell_type": "markdown",
   "metadata": {},
   "source": [
    "Проверка с помощью встроенной функции scipy: "
   ]
  },
  {
   "cell_type": "code",
   "execution_count": 37,
   "metadata": {},
   "outputs": [
    {
     "data": {
      "text/plain": [
       "599.9999993946403"
      ]
     },
     "execution_count": 37,
     "metadata": {},
     "output_type": "execute_result"
    }
   ],
   "source": [
    "from scipy.misc import derivative\n",
    "derivative(f, x, dx=1e-6)"
   ]
  },
  {
   "cell_type": "markdown",
   "metadata": {},
   "source": [
    "### Ответ преподователя:\n",
    "\n",
    "Добрый день!\n",
    "\n",
    "Спасибо за задание!\n",
    "\n",
    "В Задании 1d) у вашей функции область определения вся числовая прямая, а не 1 точка, остальное верно.\n",
    "\n",
    "Задание 2 верно!\n",
    "\n",
    "В задании 3 не хватает решения через функцию в python.\n",
    "\n",
    "В задании 4 нужно двигаться итеративно в направлении антиградиента, для этого можно использовать функцию python approx_fprime."
   ]
  },
  {
   "cell_type": "markdown",
   "metadata": {},
   "source": [
    "### 1d"
   ]
  },
  {
   "cell_type": "code",
   "execution_count": 9,
   "metadata": {},
   "outputs": [],
   "source": [
    "def f_d(x):\n",
    "    #return (-x**2)**0.5\n",
    "    return sin(x)**2 + cos(x)**2"
   ]
  },
  {
   "cell_type": "markdown",
   "metadata": {},
   "source": [
    "### 3"
   ]
  },
  {
   "cell_type": "code",
   "execution_count": 16,
   "metadata": {},
   "outputs": [],
   "source": [
    "def test_func(x):\n",
    "    return (2 * (x[0]**2) * (x[1]**3) + (1 / x[0]) + (x[1]**2) * x[0] + 7)"
   ]
  },
  {
   "cell_type": "code",
   "execution_count": 23,
   "metadata": {},
   "outputs": [
    {
     "data": {
      "text/plain": [
       "array([35.00000024, 28.00000024])"
      ]
     },
     "execution_count": 23,
     "metadata": {},
     "output_type": "execute_result"
    }
   ],
   "source": [
    "x = [1,2]\n",
    "eps = np.sqrt(np.finfo(float).eps)\n",
    "approx_fprime(x, test_func, [eps,eps])"
   ]
  },
  {
   "cell_type": "markdown",
   "metadata": {},
   "source": [
    "### 4"
   ]
  },
  {
   "cell_type": "code",
   "execution_count": 61,
   "metadata": {},
   "outputs": [],
   "source": [
    "def f(x):\n",
    "    return (x[0]**2) + (x[1]**2) \n",
    "x = np.array([100, 200])\n",
    "lr = 0.1"
   ]
  },
  {
   "cell_type": "code",
   "execution_count": 62,
   "metadata": {},
   "outputs": [],
   "source": [
    "for i in range(100):\n",
    "    # Calculate gradient\n",
    "    eps = np.sqrt(np.finfo(float).eps)\n",
    "    grad = approx_fprime(x, f, [eps, eps])\n",
    "    \n",
    "    # Update x with gradient\n",
    "    x = x - lr * grad\n",
    "    #print(x)"
   ]
  },
  {
   "cell_type": "code",
   "execution_count": 63,
   "metadata": {},
   "outputs": [
    {
     "name": "stdout",
     "output_type": "stream",
     "text": [
      "Минимум достигается в:  [1.29197811e-08 3.32901401e-08]\n",
      "Значение функции в минимуме:  1.2751541739575636e-15\n"
     ]
    }
   ],
   "source": [
    "print(\"Минимум достигается в: \", x)\n",
    "print(\"Значение функции в минимуме: \", f(x))"
   ]
  },
  {
   "cell_type": "code",
   "execution_count": null,
   "metadata": {},
   "outputs": [],
   "source": []
  }
 ],
 "metadata": {
  "kernelspec": {
   "display_name": "Python 3",
   "language": "python",
   "name": "python3"
  },
  "language_info": {
   "codemirror_mode": {
    "name": "ipython",
    "version": 3
   },
   "file_extension": ".py",
   "mimetype": "text/x-python",
   "name": "python",
   "nbconvert_exporter": "python",
   "pygments_lexer": "ipython3",
   "version": "3.7.6"
  }
 },
 "nbformat": 4,
 "nbformat_minor": 2
}
